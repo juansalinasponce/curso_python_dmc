{
  "nbformat": 4,
  "nbformat_minor": 0,
  "metadata": {
    "colab": {
      "name": "Sesion02-Curso_python.ipynb",
      "provenance": [],
      "collapsed_sections": [],
      "authorship_tag": "ABX9TyP/2izYdURO9m5QwBH9+PDb",
      "include_colab_link": true
    },
    "kernelspec": {
      "name": "python3",
      "display_name": "Python 3"
    }
  },
  "cells": [
    {
      "cell_type": "markdown",
      "metadata": {
        "id": "view-in-github",
        "colab_type": "text"
      },
      "source": [
        "<a href=\"https://colab.research.google.com/github/juansalinasponce/curso_python_dmc/blob/main/Sesion02_Curso_python.ipynb\" target=\"_parent\"><img src=\"https://colab.research.google.com/assets/colab-badge.svg\" alt=\"Open In Colab\"/></a>"
      ]
    },
    {
      "cell_type": "code",
      "metadata": {
        "id": "Z6gw1eCWwL6H",
        "outputId": "4ba08b63-0a9f-4625-b2a2-b9aa4aa3ead8",
        "colab": {
          "base_uri": "https://localhost:8080/"
        }
      },
      "source": [
        "X = 1\n",
        "type(X)"
      ],
      "execution_count": 67,
      "outputs": [
        {
          "output_type": "execute_result",
          "data": {
            "text/plain": [
              "int"
            ]
          },
          "metadata": {
            "tags": []
          },
          "execution_count": 67
        }
      ]
    },
    {
      "cell_type": "code",
      "metadata": {
        "id": "7C34t9e33znQ",
        "outputId": "88a632ce-0da8-4305-9821-280d30fa35b8",
        "colab": {
          "base_uri": "https://localhost:8080/"
        }
      },
      "source": [
        "X = 1\n",
        "print(type(X))\n",
        "X = 'Valor'\n",
        "print(type(X))"
      ],
      "execution_count": 19,
      "outputs": [
        {
          "output_type": "stream",
          "text": [
            "<class 'int'>\n",
            "<class 'str'>\n"
          ],
          "name": "stdout"
        }
      ]
    },
    {
      "cell_type": "code",
      "metadata": {
        "id": "hqMlzxda3uB_",
        "outputId": "8d1b68ba-aeba-4e6b-edb8-bd1c9e3cb9d6",
        "colab": {
          "base_uri": "https://localhost:8080/"
        }
      },
      "source": [
        "nombres = \"Juan Miguel\"\n",
        "apellidos = 'Salinas Ponce'\n",
        "edad = 18\n",
        "print('Tu nombre es:',nombres,\"Tu apellido es:\", apellidos, \"Tu edad es:\", edad)"
      ],
      "execution_count": 26,
      "outputs": [
        {
          "output_type": "stream",
          "text": [
            "Tu nombre es: Juan Miguel Tu apellido es: Salinas Ponce Tu edad es: 18\n"
          ],
          "name": "stdout"
        }
      ]
    },
    {
      "cell_type": "code",
      "metadata": {
        "id": "5LPUBYxb46NL",
        "outputId": "65019f85-4974-4f3a-e88f-6f6ba7ee1e08",
        "colab": {
          "base_uri": "https://localhost:8080/"
        }
      },
      "source": [
        "#bool TRUE O FALSE\n",
        "b1 = bool(\"True\")\n",
        "b2 = True\n",
        "b3 = False\n",
        "type(b1)"
      ],
      "execution_count": 32,
      "outputs": [
        {
          "output_type": "execute_result",
          "data": {
            "text/plain": [
              "bool"
            ]
          },
          "metadata": {
            "tags": []
          },
          "execution_count": 32
        }
      ]
    },
    {
      "cell_type": "code",
      "metadata": {
        "id": "O7_ORsvi5xVV",
        "outputId": "b6e8905a-fc7e-428f-c96f-5a0d11f4a8e4",
        "colab": {
          "base_uri": "https://localhost:8080/"
        }
      },
      "source": [
        "num_entero = 8\n",
        "print(type(num_entero))"
      ],
      "execution_count": 35,
      "outputs": [
        {
          "output_type": "stream",
          "text": [
            "<class 'int'>\n"
          ],
          "name": "stdout"
        }
      ]
    },
    {
      "cell_type": "code",
      "metadata": {
        "id": "V3PT7Ub5583S",
        "outputId": "ec2f8a2a-4807-4076-b707-7e62c4fec96e",
        "colab": {
          "base_uri": "https://localhost:8080/"
        }
      },
      "source": [
        "#en el contexto de los números enteros\n",
        "num_negativo = -100\n",
        "print(type(num_negativo))"
      ],
      "execution_count": 36,
      "outputs": [
        {
          "output_type": "stream",
          "text": [
            "<class 'int'>\n"
          ],
          "name": "stdout"
        }
      ]
    },
    {
      "cell_type": "code",
      "metadata": {
        "id": "YbfD-GQg6MQx",
        "outputId": "d39089cd-60ea-46b9-bbc0-a6b4b633b4be",
        "colab": {
          "base_uri": "https://localhost:8080/"
        }
      },
      "source": [
        "num_real = 4.5\n",
        "print(type(num_real))"
      ],
      "execution_count": 38,
      "outputs": [
        {
          "output_type": "stream",
          "text": [
            "<class 'float'>\n"
          ],
          "name": "stdout"
        }
      ]
    },
    {
      "cell_type": "code",
      "metadata": {
        "id": "exT2BrPL6fXV",
        "outputId": "630aa147-24b3-46f2-d8cd-7066ea3b8d5c",
        "colab": {
          "base_uri": "https://localhost:8080/"
        }
      },
      "source": [
        "#otra manera de expresar un número real es:\n",
        "num_real = 0.5e-7\n",
        "print(type(num_real))"
      ],
      "execution_count": 39,
      "outputs": [
        {
          "output_type": "stream",
          "text": [
            "<class 'float'>\n"
          ],
          "name": "stdout"
        }
      ]
    },
    {
      "cell_type": "code",
      "metadata": {
        "id": "mGKu7dfc6lY8",
        "outputId": "361b98cb-5c7c-4e32-aa01-6df2a9ac5c46",
        "colab": {
          "base_uri": "https://localhost:8080/"
        }
      },
      "source": [
        "#números formados por una parte real y otra imaginaria\n",
        "num_complejo = 3.2 + 7j\n",
        "print(type(num_complejo))"
      ],
      "execution_count": 40,
      "outputs": [
        {
          "output_type": "stream",
          "text": [
            "<class 'complex'>\n"
          ],
          "name": "stdout"
        }
      ]
    },
    {
      "cell_type": "code",
      "metadata": {
        "id": "CxkRcy8-6xWu",
        "outputId": "169c8449-45f9-40c2-82f8-516710751cd2",
        "colab": {
          "base_uri": "https://localhost:8080/"
        }
      },
      "source": [
        "numero = 5/2\n",
        "print(type(numero))"
      ],
      "execution_count": 55,
      "outputs": [
        {
          "output_type": "stream",
          "text": [
            "<class 'float'>\n"
          ],
          "name": "stdout"
        }
      ]
    },
    {
      "cell_type": "code",
      "metadata": {
        "id": "CGQIUXoq7Ijt",
        "outputId": "ecd8a705-287c-4348-84e5-04d54bf7cfa2",
        "colab": {
          "base_uri": "https://localhost:8080/"
        }
      },
      "source": [
        "#el número 7 en binario se representa de la siguiente forma:\n",
        "num_binario = 0b1001\n",
        "print(type(num_binario))\n",
        "print(num_binario)"
      ],
      "execution_count": 46,
      "outputs": [
        {
          "output_type": "stream",
          "text": [
            "<class 'int'>\n",
            "9\n"
          ],
          "name": "stdout"
        }
      ]
    },
    {
      "cell_type": "code",
      "metadata": {
        "id": "AsP5vdAd7isr",
        "outputId": "14758c46-32fe-4754-ae25-eff35a56876f",
        "colab": {
          "base_uri": "https://localhost:8080/"
        }
      },
      "source": [
        "#el número 8 en octak se representa de la siguiente forma:\n",
        "num_octal = 0o10\n",
        "print(type(num_octal))\n",
        "print(num_octal)"
      ],
      "execution_count": 47,
      "outputs": [
        {
          "output_type": "stream",
          "text": [
            "<class 'int'>\n",
            "8\n"
          ],
          "name": "stdout"
        }
      ]
    },
    {
      "cell_type": "code",
      "metadata": {
        "id": "RGmlblev7tP1",
        "outputId": "6dfd9054-86e1-44b3-e67e-06125200c795",
        "colab": {
          "base_uri": "https://localhost:8080/"
        }
      },
      "source": [
        "num_hex = 0xff\n",
        "print(type(num_hex))\n",
        "print(num_hex)"
      ],
      "execution_count": 48,
      "outputs": [
        {
          "output_type": "stream",
          "text": [
            "<class 'int'>\n",
            "255\n"
          ],
          "name": "stdout"
        }
      ]
    },
    {
      "cell_type": "code",
      "metadata": {
        "id": "4o-B3iAk7-17",
        "outputId": "dbf1789b-b727-4f8e-a92a-aa632b1365ca",
        "colab": {
          "base_uri": "https://localhost:8080/"
        }
      },
      "source": [
        "cadena = \"esto es una cadena de texto\"\n",
        "print(type(cadena))\n",
        "print(cadena)"
      ],
      "execution_count": 51,
      "outputs": [
        {
          "output_type": "stream",
          "text": [
            "<class 'str'>\n",
            "esto es una cadena de texto\n"
          ],
          "name": "stdout"
        }
      ]
    },
    {
      "cell_type": "code",
      "metadata": {
        "id": "59kxWvfw9uoU",
        "outputId": "6d6b6c15-3336-443f-856a-32015102783c",
        "colab": {
          "base_uri": "https://localhost:8080/"
        }
      },
      "source": [
        "\n",
        "lat = bytearray(\"España\", \"latin1\")\n",
        "print(lat)"
      ],
      "execution_count": 56,
      "outputs": [
        {
          "output_type": "stream",
          "text": [
            "bytearray(b'Espa\\xf1a')\n"
          ],
          "name": "stdout"
        }
      ]
    },
    {
      "cell_type": "code",
      "metadata": {
        "id": "XuOblSnJ95b0",
        "outputId": "c0193969-dc2d-4a70-cc83-17da9d25050a",
        "colab": {
          "base_uri": "https://localhost:8080/"
        }
      },
      "source": [
        "pais = \"España\"\n",
        "array1 = bytearray(pais, 'utf-8') \n",
        "print(array1)"
      ],
      "execution_count": 57,
      "outputs": [
        {
          "output_type": "stream",
          "text": [
            "bytearray(b'Espa\\xc3\\xb1a')\n"
          ],
          "name": "stdout"
        }
      ]
    },
    {
      "cell_type": "code",
      "metadata": {
        "id": "e043JIs7-cnw",
        "outputId": "70af343a-e6b7-4560-ac97-358f9311ac67",
        "colab": {
          "base_uri": "https://localhost:8080/"
        }
      },
      "source": [
        "cad = \"es de tipo str\"\n",
        "print(type(cad))\n",
        "cad.encode()"
      ],
      "execution_count": 59,
      "outputs": [
        {
          "output_type": "stream",
          "text": [
            "<class 'str'>\n"
          ],
          "name": "stdout"
        },
        {
          "output_type": "execute_result",
          "data": {
            "text/plain": [
              "b'es de tipo str'"
            ]
          },
          "metadata": {
            "tags": []
          },
          "execution_count": 59
        }
      ]
    },
    {
      "cell_type": "code",
      "metadata": {
        "id": "zG7KbfYEAUr0",
        "outputId": "9129e801-23cd-43c9-d706-e2cc3d7c7d0d",
        "colab": {
          "base_uri": "https://localhost:8080/"
        }
      },
      "source": [
        "Estudiante = [] #Declarando una lista vacia\n",
        "Estudiante = [\"Manuel Ponte\",23,\"False\",\"campos4\",\"campos5\"]\n",
        "Estudiante"
      ],
      "execution_count": 71,
      "outputs": [
        {
          "output_type": "execute_result",
          "data": {
            "text/plain": [
              "['Manuel Ponte', 23, 'False', 'campos4', 'campos5']"
            ]
          },
          "metadata": {
            "tags": []
          },
          "execution_count": 71
        }
      ]
    },
    {
      "cell_type": "code",
      "metadata": {
        "id": "W4xzOo6kBbvJ",
        "outputId": "eeb498e1-53d0-4b33-feae-12cabbaef3ed",
        "colab": {
          "base_uri": "https://localhost:8080/",
          "height": 35
        }
      },
      "source": [
        "Estudiante[0]"
      ],
      "execution_count": 68,
      "outputs": [
        {
          "output_type": "execute_result",
          "data": {
            "application/vnd.google.colaboratory.intrinsic+json": {
              "type": "string"
            },
            "text/plain": [
              "'Manuel Ponte'"
            ]
          },
          "metadata": {
            "tags": []
          },
          "execution_count": 68
        }
      ]
    },
    {
      "cell_type": "code",
      "metadata": {
        "id": "z6IKwsD7BncA",
        "outputId": "a484be98-72da-49c4-d34d-99721c7a2f05",
        "colab": {
          "base_uri": "https://localhost:8080/"
        }
      },
      "source": [
        "Estudiante[0:4]"
      ],
      "execution_count": 74,
      "outputs": [
        {
          "output_type": "execute_result",
          "data": {
            "text/plain": [
              "['Manuel Ponte', 23, 'False', 'campos4']"
            ]
          },
          "metadata": {
            "tags": []
          },
          "execution_count": 74
        }
      ]
    },
    {
      "cell_type": "code",
      "metadata": {
        "id": "6lEGZFk8BzRW",
        "outputId": "62c34ed4-5034-4784-a228-e0e03e113276",
        "colab": {
          "base_uri": "https://localhost:8080/",
          "height": 35
        }
      },
      "source": [
        "Estudiante[-1]"
      ],
      "execution_count": 70,
      "outputs": [
        {
          "output_type": "execute_result",
          "data": {
            "application/vnd.google.colaboratory.intrinsic+json": {
              "type": "string"
            },
            "text/plain": [
              "'False'"
            ]
          },
          "metadata": {
            "tags": []
          },
          "execution_count": 70
        }
      ]
    }
  ]
}